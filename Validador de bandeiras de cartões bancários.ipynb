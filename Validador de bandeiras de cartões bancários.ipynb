{
 "cells": [
  {
   "cell_type": "code",
   "execution_count": null,
   "metadata": {},
   "outputs": [],
   "source": [
    "import re\n",
    "import tkinter as tk\n",
    "from tkinter import messagebox\n",
    "\n",
    "\n",
    "def verificar_bandeira(cartao_numero):\n",
    "    bandeiras = {\n",
    "        \"Visa\": r\"^4[0-9]{12}(?:[0-9]{3})?$\",\n",
    "        \"MasterCard\": r\"^5[1-5][0-9]{14}$\",\n",
    "        \"American Express\": r\"^3[47][0-9]{13}$\",\n",
    "        \"Diners Club\": r\"^3(?:0[0-5]|[68][0-9])[0-9]{11}$\",\n",
    "        \"Discover\": r\"^6(?:011|5[0-9]{2})[0-9]{12}$\",\n",
    "        \"JCB\": r\"^(?:2131|1800|35\\d{3})\\d{11}$\",\n",
    "    }\n",
    "\n",
    "    for bandeira, padrao in bandeiras.items():\n",
    "        if re.match(padrao, cartao_numero):\n",
    "            return bandeira\n",
    "    return \"Bandeira desconhecida\"\n",
    "\n",
    "\n",
    "def verificar_bandeira_gui():\n",
    "    numero_cartao = entry.get()\n",
    "    numero_cartao = re.sub(\n",
    "        r\"\\D\", \"\", numero_cartao\n",
    "    )  # Remove todos os caracteres não numéricos\n",
    "    bandeira = verificar_bandeira(numero_cartao)\n",
    "    resultado_label.config(text=f\"A bandeira do cartão é: {bandeira}\")\n",
    "\n",
    "\n",
    "# Configuração da interface gráfica\n",
    "root = tk.Tk()\n",
    "root.title(\"Verificador de Bandeira de Cartões Bancários\")\n",
    "root.geometry(\"400x200\")\n",
    "root.resizable(False, False)\n",
    "\n",
    "tk.Label(root, text=\"Digite o número do cartão de crédito:\").pack(pady=10)\n",
    "entry = tk.Entry(root)\n",
    "entry.pack(pady=5)\n",
    "\n",
    "tk.Button(root, text=\"Verificar Bandeira\", command=verificar_bandeira_gui).pack(pady=20)\n",
    "\n",
    "resultado_label = tk.Label(root, text=\"\")\n",
    "resultado_label.pack(pady=10)\n",
    "\n",
    "root.mainloop()"
   ]
  }
 ],
 "metadata": {
  "kernelspec": {
   "display_name": "Python 3",
   "language": "python",
   "name": "python3"
  },
  "language_info": {
   "codemirror_mode": {
    "name": "ipython",
    "version": 3
   },
   "file_extension": ".py",
   "mimetype": "text/x-python",
   "name": "python",
   "nbconvert_exporter": "python",
   "pygments_lexer": "ipython3",
   "version": "3.12.9"
  }
 },
 "nbformat": 4,
 "nbformat_minor": 2
}
